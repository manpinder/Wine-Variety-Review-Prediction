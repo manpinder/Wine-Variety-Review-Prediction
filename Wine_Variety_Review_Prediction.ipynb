{
  "nbformat": 4,
  "nbformat_minor": 0,
  "metadata": {
    "kernelspec": {
      "display_name": "Python 3",
      "language": "python",
      "name": "python3"
    },
    "language_info": {
      "codemirror_mode": {
        "name": "ipython",
        "version": 3
      },
      "file_extension": ".py",
      "mimetype": "text/x-python",
      "name": "python",
      "nbconvert_exporter": "python",
      "pygments_lexer": "ipython3",
      "version": "3.7.3"
    },
    "colab": {
      "name": "Wine-Variety-Review-Prediction-.ipynb",
      "provenance": [],
      "collapsed_sections": []
    }
  },
  "cells": [
    {
      "cell_type": "markdown",
      "metadata": {
        "id": "b174BAu2Kpmf",
        "colab_type": "text"
      },
      "source": [
        "## Importing necessary libraries"
      ]
    },
    {
      "cell_type": "code",
      "metadata": {
        "id": "_qoFytCzKigT",
        "colab_type": "code",
        "outputId": "ffa6397b-905d-4cb8-8331-22eebd692b3b",
        "colab": {
          "base_uri": "https://localhost:8080/",
          "height": 84
        }
      },
      "source": [
        "import pandas as pd\n",
        "from sklearn.preprocessing import LabelEncoder\n",
        "from nltk.stem import WordNetLemmatizer\n",
        "import nltk\n",
        "nltk.download('stopwords')\n",
        "nltk.download('wordnet')\n",
        "from sklearn.feature_extraction.text import TfidfVectorizer\n",
        "from nltk.tokenize.toktok import ToktokTokenizer\n",
        "from sklearn.model_selection import train_test_split\n",
        "from sklearn.svm import SVC\n",
        "from sklearn.tree import DecisionTreeClassifier\n",
        "from sklearn.metrics import classification_report,confusion_matrix\n",
        "import matplotlib.pyplot as plt"
      ],
      "execution_count": 16,
      "outputs": [
        {
          "output_type": "stream",
          "text": [
            "[nltk_data] Downloading package stopwords to /root/nltk_data...\n",
            "[nltk_data]   Package stopwords is already up-to-date!\n",
            "[nltk_data] Downloading package wordnet to /root/nltk_data...\n",
            "[nltk_data]   Package wordnet is already up-to-date!\n"
          ],
          "name": "stdout"
        }
      ]
    },
    {
      "cell_type": "markdown",
      "metadata": {
        "id": "-am_YWjLK1qq",
        "colab_type": "text"
      },
      "source": [
        "## Loading data"
      ]
    },
    {
      "cell_type": "code",
      "metadata": {
        "id": "3N2W9NCvxuGp",
        "colab_type": "code",
        "colab": {}
      },
      "source": [
        "df_train=pd.read_csv(\"train.csv\")\n",
        "df_test=pd.read_csv(\"test.csv\")"
      ],
      "execution_count": 0,
      "outputs": []
    },
    {
      "cell_type": "markdown",
      "metadata": {
        "id": "m65FLITBLgk6",
        "colab_type": "text"
      },
      "source": [
        "## Analysing both datasets"
      ]
    },
    {
      "cell_type": "code",
      "metadata": {
        "id": "US3muMeoLmh4",
        "colab_type": "code",
        "outputId": "94aaa0b7-37d1-4340-9760-2aafca1b0fc9",
        "colab": {
          "base_uri": "https://localhost:8080/",
          "height": 501
        }
      },
      "source": [
        "df_train.head()"
      ],
      "execution_count": 18,
      "outputs": [
        {
          "output_type": "execute_result",
          "data": {
            "text/html": [
              "<div>\n",
              "<style scoped>\n",
              "    .dataframe tbody tr th:only-of-type {\n",
              "        vertical-align: middle;\n",
              "    }\n",
              "\n",
              "    .dataframe tbody tr th {\n",
              "        vertical-align: top;\n",
              "    }\n",
              "\n",
              "    .dataframe thead th {\n",
              "        text-align: right;\n",
              "    }\n",
              "</style>\n",
              "<table border=\"1\" class=\"dataframe\">\n",
              "  <thead>\n",
              "    <tr style=\"text-align: right;\">\n",
              "      <th></th>\n",
              "      <th>user_name</th>\n",
              "      <th>country</th>\n",
              "      <th>review_title</th>\n",
              "      <th>review_description</th>\n",
              "      <th>designation</th>\n",
              "      <th>points</th>\n",
              "      <th>price</th>\n",
              "      <th>province</th>\n",
              "      <th>region_1</th>\n",
              "      <th>region_2</th>\n",
              "      <th>winery</th>\n",
              "      <th>variety</th>\n",
              "    </tr>\n",
              "  </thead>\n",
              "  <tbody>\n",
              "    <tr>\n",
              "      <th>0</th>\n",
              "      <td>NaN</td>\n",
              "      <td>Australia</td>\n",
              "      <td>Andrew Peace 2007 Peace Family Vineyard Chardo...</td>\n",
              "      <td>Classic Chardonnay aromas of apple, pear and h...</td>\n",
              "      <td>Peace Family Vineyard</td>\n",
              "      <td>83</td>\n",
              "      <td>10.0</td>\n",
              "      <td>Australia Other</td>\n",
              "      <td>South Eastern Australia</td>\n",
              "      <td>NaN</td>\n",
              "      <td>Andrew Peace</td>\n",
              "      <td>Chardonnay</td>\n",
              "    </tr>\n",
              "    <tr>\n",
              "      <th>1</th>\n",
              "      <td>@wawinereport</td>\n",
              "      <td>US</td>\n",
              "      <td>North by Northwest 2014 Red (Columbia Valley (...</td>\n",
              "      <td>This wine is near equal parts Syrah and Merlot...</td>\n",
              "      <td>NaN</td>\n",
              "      <td>89</td>\n",
              "      <td>15.0</td>\n",
              "      <td>Washington</td>\n",
              "      <td>Columbia Valley (WA)</td>\n",
              "      <td>Columbia Valley</td>\n",
              "      <td>North by Northwest</td>\n",
              "      <td>Red Blend</td>\n",
              "    </tr>\n",
              "    <tr>\n",
              "      <th>2</th>\n",
              "      <td>NaN</td>\n",
              "      <td>Italy</td>\n",
              "      <td>Renato Ratti 2007 Conca  (Barolo)</td>\n",
              "      <td>Barolo Conca opens with inky dark concentratio...</td>\n",
              "      <td>Conca</td>\n",
              "      <td>94</td>\n",
              "      <td>80.0</td>\n",
              "      <td>Piedmont</td>\n",
              "      <td>Barolo</td>\n",
              "      <td>NaN</td>\n",
              "      <td>Renato Ratti</td>\n",
              "      <td>Nebbiolo</td>\n",
              "    </tr>\n",
              "    <tr>\n",
              "      <th>3</th>\n",
              "      <td>@vossroger</td>\n",
              "      <td>France</td>\n",
              "      <td>Domaine l'Ancienne Cure 2010 L'Abbaye White (B...</td>\n",
              "      <td>It's impressive what a small addition of Sauvi...</td>\n",
              "      <td>L'Abbaye</td>\n",
              "      <td>87</td>\n",
              "      <td>22.0</td>\n",
              "      <td>Southwest France</td>\n",
              "      <td>Bergerac Sec</td>\n",
              "      <td>NaN</td>\n",
              "      <td>Domaine l'Ancienne Cure</td>\n",
              "      <td>Bordeaux-style White Blend</td>\n",
              "    </tr>\n",
              "    <tr>\n",
              "      <th>4</th>\n",
              "      <td>@vossroger</td>\n",
              "      <td>France</td>\n",
              "      <td>Château du Cèdre 2012 Le Cèdre Vintage Malbec ...</td>\n",
              "      <td>This ripe, sweet wine is rich and full of drie...</td>\n",
              "      <td>Le Cèdre Vintage</td>\n",
              "      <td>88</td>\n",
              "      <td>33.0</td>\n",
              "      <td>France Other</td>\n",
              "      <td>Vin de Liqueur</td>\n",
              "      <td>NaN</td>\n",
              "      <td>Château du Cèdre</td>\n",
              "      <td>Malbec</td>\n",
              "    </tr>\n",
              "  </tbody>\n",
              "</table>\n",
              "</div>"
            ],
            "text/plain": [
              "       user_name  ...                     variety\n",
              "0            NaN  ...                  Chardonnay\n",
              "1  @wawinereport  ...                   Red Blend\n",
              "2            NaN  ...                    Nebbiolo\n",
              "3     @vossroger  ...  Bordeaux-style White Blend\n",
              "4     @vossroger  ...                      Malbec\n",
              "\n",
              "[5 rows x 12 columns]"
            ]
          },
          "metadata": {
            "tags": []
          },
          "execution_count": 18
        }
      ]
    },
    {
      "cell_type": "code",
      "metadata": {
        "id": "Q5OWCMdyL06I",
        "colab_type": "code",
        "outputId": "477e8a3d-d0c6-42ec-9dd1-3ac2cf09552e",
        "colab": {
          "base_uri": "https://localhost:8080/",
          "height": 351
        }
      },
      "source": [
        "df_train.info()\n",
        "print(len(df_train))"
      ],
      "execution_count": 19,
      "outputs": [
        {
          "output_type": "stream",
          "text": [
            "<class 'pandas.core.frame.DataFrame'>\n",
            "RangeIndex: 82657 entries, 0 to 82656\n",
            "Data columns (total 12 columns):\n",
            " #   Column              Non-Null Count  Dtype  \n",
            "---  ------              --------------  -----  \n",
            " 0   user_name           63264 non-null  object \n",
            " 1   country             82622 non-null  object \n",
            " 2   review_title        82657 non-null  object \n",
            " 3   review_description  82657 non-null  object \n",
            " 4   designation         59010 non-null  object \n",
            " 5   points              82657 non-null  int64  \n",
            " 6   price               77088 non-null  float64\n",
            " 7   province            82622 non-null  object \n",
            " 8   region_1            69903 non-null  object \n",
            " 9   region_2            35949 non-null  object \n",
            " 10  winery              82657 non-null  object \n",
            " 11  variety             82657 non-null  object \n",
            "dtypes: float64(1), int64(1), object(10)\n",
            "memory usage: 7.6+ MB\n",
            "82657\n"
          ],
          "name": "stdout"
        }
      ]
    },
    {
      "cell_type": "code",
      "metadata": {
        "id": "GbJguPq5M3ll",
        "colab_type": "code",
        "outputId": "9b692d26-3c1c-4fff-9e67-fa6891681159",
        "colab": {
          "base_uri": "https://localhost:8080/",
          "height": 334
        }
      },
      "source": [
        "df_test.info()\n",
        "print(len(df_test))"
      ],
      "execution_count": 20,
      "outputs": [
        {
          "output_type": "stream",
          "text": [
            "<class 'pandas.core.frame.DataFrame'>\n",
            "RangeIndex: 20665 entries, 0 to 20664\n",
            "Data columns (total 11 columns):\n",
            " #   Column              Non-Null Count  Dtype  \n",
            "---  ------              --------------  -----  \n",
            " 0   user_name           15927 non-null  object \n",
            " 1   country             20661 non-null  object \n",
            " 2   review_title        20665 non-null  object \n",
            " 3   review_description  20665 non-null  object \n",
            " 4   designation         14676 non-null  object \n",
            " 5   points              20665 non-null  int64  \n",
            " 6   price               19271 non-null  float64\n",
            " 7   province            20661 non-null  object \n",
            " 8   region_1            17351 non-null  object \n",
            " 9   region_2            8914 non-null   object \n",
            " 10  winery              20665 non-null  object \n",
            "dtypes: float64(1), int64(1), object(9)\n",
            "memory usage: 1.7+ MB\n",
            "20665\n"
          ],
          "name": "stdout"
        }
      ]
    },
    {
      "cell_type": "markdown",
      "metadata": {
        "id": "6r40yaNCMrnX",
        "colab_type": "text"
      },
      "source": [
        "Both 'review_description' and 'variety' columns in both the datasets does not contain null values"
      ]
    },
    {
      "cell_type": "code",
      "metadata": {
        "id": "dqZ2O07sNZiu",
        "colab_type": "code",
        "outputId": "3447134e-0340-43c8-b8c3-00ef0f83ebf0",
        "colab": {
          "base_uri": "https://localhost:8080/",
          "height": 33
        }
      },
      "source": [
        "df_train['variety'].nunique()"
      ],
      "execution_count": 21,
      "outputs": [
        {
          "output_type": "execute_result",
          "data": {
            "text/plain": [
              "28"
            ]
          },
          "metadata": {
            "tags": []
          },
          "execution_count": 21
        }
      ]
    },
    {
      "cell_type": "markdown",
      "metadata": {
        "id": "qxBee3MiNii3",
        "colab_type": "text"
      },
      "source": [
        "There are 28 types of wines "
      ]
    },
    {
      "cell_type": "code",
      "metadata": {
        "id": "aC4BYd16L8Q8",
        "colab_type": "code",
        "outputId": "0921a2e1-86f4-4200-84e5-bf9828aea2c2",
        "colab": {
          "base_uri": "https://localhost:8080/",
          "height": 502
        }
      },
      "source": [
        "df_train['variety'].value_counts()\n"
      ],
      "execution_count": 22,
      "outputs": [
        {
          "output_type": "execute_result",
          "data": {
            "text/plain": [
              "Pinot Noir                    10587\n",
              "Chardonnay                     9403\n",
              "Cabernet Sauvignon             7552\n",
              "Red Blend                      7166\n",
              "Bordeaux-style Red Blend       5497\n",
              "Riesling                       4148\n",
              "Sauvignon Blanc                4011\n",
              "Syrah                          3316\n",
              "Rosé                           2831\n",
              "Merlot                         2471\n",
              "Nebbiolo                       2242\n",
              "Zinfandel                      2209\n",
              "Sangiovese                     2165\n",
              "Malbec                         2119\n",
              "Portuguese Red                 1969\n",
              "White Blend                    1896\n",
              "Sparkling Blend                1739\n",
              "Tempranillo                    1448\n",
              "Rhône-style Red Blend          1182\n",
              "Pinot Gris                     1148\n",
              "Champagne Blend                1133\n",
              "Cabernet Franc                 1095\n",
              "Grüner Veltliner               1055\n",
              "Portuguese White                896\n",
              "Pinot Grigio                    873\n",
              "Bordeaux-style White Blend      850\n",
              "Gewürztraminer                  840\n",
              "Gamay                           816\n",
              "Name: variety, dtype: int64"
            ]
          },
          "metadata": {
            "tags": []
          },
          "execution_count": 22
        }
      ]
    },
    {
      "cell_type": "markdown",
      "metadata": {
        "id": "OaKFzlgYN90a",
        "colab_type": "text"
      },
      "source": [
        "'Pinot Noir' is appearing the most "
      ]
    },
    {
      "cell_type": "markdown",
      "metadata": {
        "id": "YLS8R1L0cDFZ",
        "colab_type": "text"
      },
      "source": [
        "## Statistical Data of Train Dataset"
      ]
    },
    {
      "cell_type": "code",
      "metadata": {
        "id": "SGFlcTatcEjm",
        "colab_type": "code",
        "outputId": "fdc25f67-815d-416e-f6a6-295f93d0772b",
        "colab": {
          "base_uri": "https://localhost:8080/",
          "height": 200
        }
      },
      "source": [
        "df_train[['user_name','country','review_title','review_description','designation','province', 'region_1','region_2', 'winery', 'variety']].describe()"
      ],
      "execution_count": 23,
      "outputs": [
        {
          "output_type": "execute_result",
          "data": {
            "text/html": [
              "<div>\n",
              "<style scoped>\n",
              "    .dataframe tbody tr th:only-of-type {\n",
              "        vertical-align: middle;\n",
              "    }\n",
              "\n",
              "    .dataframe tbody tr th {\n",
              "        vertical-align: top;\n",
              "    }\n",
              "\n",
              "    .dataframe thead th {\n",
              "        text-align: right;\n",
              "    }\n",
              "</style>\n",
              "<table border=\"1\" class=\"dataframe\">\n",
              "  <thead>\n",
              "    <tr style=\"text-align: right;\">\n",
              "      <th></th>\n",
              "      <th>user_name</th>\n",
              "      <th>country</th>\n",
              "      <th>review_title</th>\n",
              "      <th>review_description</th>\n",
              "      <th>designation</th>\n",
              "      <th>province</th>\n",
              "      <th>region_1</th>\n",
              "      <th>region_2</th>\n",
              "      <th>winery</th>\n",
              "      <th>variety</th>\n",
              "    </tr>\n",
              "  </thead>\n",
              "  <tbody>\n",
              "    <tr>\n",
              "      <th>count</th>\n",
              "      <td>63264</td>\n",
              "      <td>82622</td>\n",
              "      <td>82657</td>\n",
              "      <td>82657</td>\n",
              "      <td>59010</td>\n",
              "      <td>82622</td>\n",
              "      <td>69903</td>\n",
              "      <td>35949</td>\n",
              "      <td>82657</td>\n",
              "      <td>82657</td>\n",
              "    </tr>\n",
              "    <tr>\n",
              "      <th>unique</th>\n",
              "      <td>15</td>\n",
              "      <td>38</td>\n",
              "      <td>76983</td>\n",
              "      <td>77628</td>\n",
              "      <td>26424</td>\n",
              "      <td>358</td>\n",
              "      <td>1019</td>\n",
              "      <td>17</td>\n",
              "      <td>13786</td>\n",
              "      <td>28</td>\n",
              "    </tr>\n",
              "    <tr>\n",
              "      <th>top</th>\n",
              "      <td>@vossroger</td>\n",
              "      <td>US</td>\n",
              "      <td>Korbel NV Brut Sparkling (California)</td>\n",
              "      <td>This brut Cava is made entirely from the Xarel...</td>\n",
              "      <td>Reserve</td>\n",
              "      <td>California</td>\n",
              "      <td>Napa Valley</td>\n",
              "      <td>Central Coast</td>\n",
              "      <td>Testarossa</td>\n",
              "      <td>Pinot Noir</td>\n",
              "    </tr>\n",
              "    <tr>\n",
              "      <th>freq</th>\n",
              "      <td>17539</td>\n",
              "      <td>38573</td>\n",
              "      <td>8</td>\n",
              "      <td>2</td>\n",
              "      <td>1382</td>\n",
              "      <td>25736</td>\n",
              "      <td>3334</td>\n",
              "      <td>7503</td>\n",
              "      <td>175</td>\n",
              "      <td>10587</td>\n",
              "    </tr>\n",
              "  </tbody>\n",
              "</table>\n",
              "</div>"
            ],
            "text/plain": [
              "         user_name country  ...      winery     variety\n",
              "count        63264   82622  ...       82657       82657\n",
              "unique          15      38  ...       13786          28\n",
              "top     @vossroger      US  ...  Testarossa  Pinot Noir\n",
              "freq         17539   38573  ...         175       10587\n",
              "\n",
              "[4 rows x 10 columns]"
            ]
          },
          "metadata": {
            "tags": []
          },
          "execution_count": 23
        }
      ]
    },
    {
      "cell_type": "markdown",
      "metadata": {
        "id": "1X_5F4CqZlni",
        "colab_type": "text"
      },
      "source": [
        "##  Data Visualization"
      ]
    },
    {
      "cell_type": "code",
      "metadata": {
        "id": "Qn8cBhpjNYjw",
        "colab_type": "code",
        "colab": {}
      },
      "source": [
        "ms=df_train.loc[(df_train['price']>500)] #selecting those rows where price of the wine is above 900\n",
        "ms=ms.loc[(ms['points']>=90)]            #selecting those rows where the ratings given to those wines are above 89"
      ],
      "execution_count": 0,
      "outputs": []
    },
    {
      "cell_type": "code",
      "metadata": {
        "id": "Oj_kIbTlaln0",
        "colab_type": "code",
        "outputId": "4b7e2ea4-c244-49be-e984-fea4a426db3f",
        "colab": {
          "base_uri": "https://localhost:8080/",
          "height": 234
        }
      },
      "source": [
        "ms['variety'].value_counts()"
      ],
      "execution_count": 25,
      "outputs": [
        {
          "output_type": "execute_result",
          "data": {
            "text/plain": [
              "Chardonnay                    14\n",
              "Bordeaux-style Red Blend      13\n",
              "Pinot Noir                    10\n",
              "Bordeaux-style White Blend     7\n",
              "Riesling                       6\n",
              "Cabernet Sauvignon             3\n",
              "Sangiovese                     3\n",
              "Champagne Blend                2\n",
              "Nebbiolo                       1\n",
              "Syrah                          1\n",
              "Grüner Veltliner               1\n",
              "Merlot                         1\n",
              "Name: variety, dtype: int64"
            ]
          },
          "metadata": {
            "tags": []
          },
          "execution_count": 25
        }
      ]
    },
    {
      "cell_type": "markdown",
      "metadata": {
        "id": "jy7YxCGZa7nl",
        "colab_type": "text"
      },
      "source": [
        "## Selecting the top 5 type of expensive wines having the best ratings."
      ]
    },
    {
      "cell_type": "code",
      "metadata": {
        "id": "mK3yJQT6L8g8",
        "colab_type": "code",
        "colab": {}
      },
      "source": [
        "me=ms['variety'].value_counts()[:5] "
      ],
      "execution_count": 0,
      "outputs": []
    },
    {
      "cell_type": "code",
      "metadata": {
        "id": "_FTObCIJL8N8",
        "colab_type": "code",
        "outputId": "177a913c-f9c4-452d-f090-8d0e4646fdfd",
        "colab": {
          "base_uri": "https://localhost:8080/",
          "height": 477
        }
      },
      "source": [
        "a=df_train['variety'].value_counts()\n",
        "fig,axes = plt.subplots(nrows=1,ncols=2,figsize=(15,8))\n",
        "me.plot(kind='pie',subplots=True,autopct='%1.1f%%',shadow=True,startangle=90,ax=axes[1])\n",
        "a.plot(kind='barh',width=0.5,subplots=True,ax=axes[0])"
      ],
      "execution_count": 27,
      "outputs": [
        {
          "output_type": "execute_result",
          "data": {
            "text/plain": [
              "array([<matplotlib.axes._subplots.AxesSubplot object at 0x7f24f0c93f28>],\n",
              "      dtype=object)"
            ]
          },
          "metadata": {
            "tags": []
          },
          "execution_count": 27
        },
        {
          "output_type": "display_data",
          "data": {
            "image/png": "[encoded data removed]",
            "text/plain": [
              "<Figure size 1080x576 with 2 Axes>"
            ]
          },
          "metadata": {
            "tags": [],
            "needs_background": "light"
          }
        }
      ]
    },
    {
      "cell_type": "markdown",
      "metadata": {
        "id": "0Zys8JIELH-7",
        "colab_type": "text"
      },
      "source": [
        "## Combining train and test datasets"
      ]
    },
    {
      "cell_type": "code",
      "metadata": {
        "id": "XVRbnbeoxuG1",
        "colab_type": "code",
        "colab": {}
      },
      "source": [
        "df=pd.concat([df_train,df_test])"
      ],
      "execution_count": 0,
      "outputs": []
    },
    {
      "cell_type": "code",
      "metadata": {
        "id": "4QIJgpwUiXtF",
        "colab_type": "code",
        "outputId": "de0b4d69-ddbc-48eb-b21f-26da86e20253",
        "colab": {
          "base_uri": "https://localhost:8080/",
          "height": 33
        }
      },
      "source": [
        "len(df)"
      ],
      "execution_count": 29,
      "outputs": [
        {
          "output_type": "execute_result",
          "data": {
            "text/plain": [
              "103322"
            ]
          },
          "metadata": {
            "tags": []
          },
          "execution_count": 29
        }
      ]
    },
    {
      "cell_type": "code",
      "metadata": {
        "id": "PEdPzfx27FDQ",
        "colab_type": "code",
        "outputId": "db17da4d-3afc-47ad-f73c-5220a047fb73",
        "colab": {
          "base_uri": "https://localhost:8080/",
          "height": 501
        }
      },
      "source": [
        "df.head()"
      ],
      "execution_count": 30,
      "outputs": [
        {
          "output_type": "execute_result",
          "data": {
            "text/html": [
              "<div>\n",
              "<style scoped>\n",
              "    .dataframe tbody tr th:only-of-type {\n",
              "        vertical-align: middle;\n",
              "    }\n",
              "\n",
              "    .dataframe tbody tr th {\n",
              "        vertical-align: top;\n",
              "    }\n",
              "\n",
              "    .dataframe thead th {\n",
              "        text-align: right;\n",
              "    }\n",
              "</style>\n",
              "<table border=\"1\" class=\"dataframe\">\n",
              "  <thead>\n",
              "    <tr style=\"text-align: right;\">\n",
              "      <th></th>\n",
              "      <th>user_name</th>\n",
              "      <th>country</th>\n",
              "      <th>review_title</th>\n",
              "      <th>review_description</th>\n",
              "      <th>designation</th>\n",
              "      <th>points</th>\n",
              "      <th>price</th>\n",
              "      <th>province</th>\n",
              "      <th>region_1</th>\n",
              "      <th>region_2</th>\n",
              "      <th>winery</th>\n",
              "      <th>variety</th>\n",
              "    </tr>\n",
              "  </thead>\n",
              "  <tbody>\n",
              "    <tr>\n",
              "      <th>0</th>\n",
              "      <td>NaN</td>\n",
              "      <td>Australia</td>\n",
              "      <td>Andrew Peace 2007 Peace Family Vineyard Chardo...</td>\n",
              "      <td>Classic Chardonnay aromas of apple, pear and h...</td>\n",
              "      <td>Peace Family Vineyard</td>\n",
              "      <td>83</td>\n",
              "      <td>10.0</td>\n",
              "      <td>Australia Other</td>\n",
              "      <td>South Eastern Australia</td>\n",
              "      <td>NaN</td>\n",
              "      <td>Andrew Peace</td>\n",
              "      <td>Chardonnay</td>\n",
              "    </tr>\n",
              "    <tr>\n",
              "      <th>1</th>\n",
              "      <td>@wawinereport</td>\n",
              "      <td>US</td>\n",
              "      <td>North by Northwest 2014 Red (Columbia Valley (...</td>\n",
              "      <td>This wine is near equal parts Syrah and Merlot...</td>\n",
              "      <td>NaN</td>\n",
              "      <td>89</td>\n",
              "      <td>15.0</td>\n",
              "      <td>Washington</td>\n",
              "      <td>Columbia Valley (WA)</td>\n",
              "      <td>Columbia Valley</td>\n",
              "      <td>North by Northwest</td>\n",
              "      <td>Red Blend</td>\n",
              "    </tr>\n",
              "    <tr>\n",
              "      <th>2</th>\n",
              "      <td>NaN</td>\n",
              "      <td>Italy</td>\n",
              "      <td>Renato Ratti 2007 Conca  (Barolo)</td>\n",
              "      <td>Barolo Conca opens with inky dark concentratio...</td>\n",
              "      <td>Conca</td>\n",
              "      <td>94</td>\n",
              "      <td>80.0</td>\n",
              "      <td>Piedmont</td>\n",
              "      <td>Barolo</td>\n",
              "      <td>NaN</td>\n",
              "      <td>Renato Ratti</td>\n",
              "      <td>Nebbiolo</td>\n",
              "    </tr>\n",
              "    <tr>\n",
              "      <th>3</th>\n",
              "      <td>@vossroger</td>\n",
              "      <td>France</td>\n",
              "      <td>Domaine l'Ancienne Cure 2010 L'Abbaye White (B...</td>\n",
              "      <td>It's impressive what a small addition of Sauvi...</td>\n",
              "      <td>L'Abbaye</td>\n",
              "      <td>87</td>\n",
              "      <td>22.0</td>\n",
              "      <td>Southwest France</td>\n",
              "      <td>Bergerac Sec</td>\n",
              "      <td>NaN</td>\n",
              "      <td>Domaine l'Ancienne Cure</td>\n",
              "      <td>Bordeaux-style White Blend</td>\n",
              "    </tr>\n",
              "    <tr>\n",
              "      <th>4</th>\n",
              "      <td>@vossroger</td>\n",
              "      <td>France</td>\n",
              "      <td>Château du Cèdre 2012 Le Cèdre Vintage Malbec ...</td>\n",
              "      <td>This ripe, sweet wine is rich and full of drie...</td>\n",
              "      <td>Le Cèdre Vintage</td>\n",
              "      <td>88</td>\n",
              "      <td>33.0</td>\n",
              "      <td>France Other</td>\n",
              "      <td>Vin de Liqueur</td>\n",
              "      <td>NaN</td>\n",
              "      <td>Château du Cèdre</td>\n",
              "      <td>Malbec</td>\n",
              "    </tr>\n",
              "  </tbody>\n",
              "</table>\n",
              "</div>"
            ],
            "text/plain": [
              "       user_name  ...                     variety\n",
              "0            NaN  ...                  Chardonnay\n",
              "1  @wawinereport  ...                   Red Blend\n",
              "2            NaN  ...                    Nebbiolo\n",
              "3     @vossroger  ...  Bordeaux-style White Blend\n",
              "4     @vossroger  ...                      Malbec\n",
              "\n",
              "[5 rows x 12 columns]"
            ]
          },
          "metadata": {
            "tags": []
          },
          "execution_count": 30
        }
      ]
    },
    {
      "cell_type": "markdown",
      "metadata": {
        "id": "hQqBDDRvR9EV",
        "colab_type": "text"
      },
      "source": [
        "## Feature and target selection"
      ]
    },
    {
      "cell_type": "code",
      "metadata": {
        "id": "yLUWTcpzxuG9",
        "colab_type": "code",
        "colab": {}
      },
      "source": [
        "y=df['variety'].values\n",
        "y=y[:len(df_train)]\n",
        "X=df['review_description'].values"
      ],
      "execution_count": 0,
      "outputs": []
    },
    {
      "cell_type": "markdown",
      "metadata": {
        "id": "8oSyoMANTAVt",
        "colab_type": "text"
      },
      "source": [
        "## Label Encoding target variable"
      ]
    },
    {
      "cell_type": "code",
      "metadata": {
        "id": "9t1VSncLxuHE",
        "colab_type": "code",
        "colab": {}
      },
      "source": [
        "le=LabelEncoder()\n",
        "le=le.fit_transform(y)"
      ],
      "execution_count": 0,
      "outputs": []
    },
    {
      "cell_type": "markdown",
      "metadata": {
        "id": "D5PBBbh-Ta6I",
        "colab_type": "text"
      },
      "source": [
        "## Data Pre-processing\n",
        "## Cleaning data-1 "
      ]
    },
    {
      "cell_type": "code",
      "metadata": {
        "id": "glxQUNeSj6MZ",
        "colab_type": "code",
        "colab": {}
      },
      "source": [
        "toktok=ToktokTokenizer()\n",
        "for i in range(len(X)):\n",
        "    words=[]\n",
        "    token=toktok.tokenize(X[i])  #Converting to tokens\n",
        "    for j in token:\n",
        "        j=j.lower()              #Converting each token to lower form\n",
        "        if(j not in nltk.corpus.stopwords.words('english')):  #Removing stopwords\n",
        "          if(j.isalpha()):       #Removing punctuations,special characters,numbers,etc and keeping only character tokens\n",
        "            words.append(j)\n",
        "    X[i]=\" \".join(words)         "
      ],
      "execution_count": 0,
      "outputs": []
    },
    {
      "cell_type": "markdown",
      "metadata": {
        "id": "uMvOK0CZU2Ly",
        "colab_type": "text"
      },
      "source": [
        "## Cleaning data-2"
      ]
    },
    {
      "cell_type": "code",
      "metadata": {
        "id": "5ulfkFifxuI9",
        "colab_type": "code",
        "colab": {}
      },
      "source": [
        "wl=WordNetLemmatizer()\n",
        "for i in range(len(X)):\n",
        "    review=' '.join([wl.lemmatize(j) for j in X[i].split()]) #Lemitization\n",
        "    X[i]=review"
      ],
      "execution_count": 0,
      "outputs": []
    },
    {
      "cell_type": "markdown",
      "metadata": {
        "id": "ZemWXS3sVZKp",
        "colab_type": "text"
      },
      "source": [
        "## We will use data from the train dataset to train our model"
      ]
    },
    {
      "cell_type": "markdown",
      "metadata": {
        "id": "4U-w7DdJVsO7",
        "colab_type": "text"
      },
      "source": [
        "## Spliting our data into training and testing data"
      ]
    },
    {
      "cell_type": "code",
      "metadata": {
        "id": "Rh1x0_IRxuJf",
        "colab_type": "code",
        "colab": {}
      },
      "source": [
        "X_train, X_test, y_train, y_test = train_test_split( X[:len(df_train)], y, test_size=0.33, random_state=42)"
      ],
      "execution_count": 0,
      "outputs": []
    },
    {
      "cell_type": "markdown",
      "metadata": {
        "id": "b28VYRo0V5I9",
        "colab_type": "text"
      },
      "source": [
        "## Transforming text to feature vectors"
      ]
    },
    {
      "cell_type": "code",
      "metadata": {
        "id": "75ux6PlKDQbW",
        "colab_type": "code",
        "colab": {}
      },
      "source": [
        "tf=TfidfVectorizer()\n",
        "X_train=tf.fit_transform(X_train)\n",
        "X_test=tf.transform(X_test)"
      ],
      "execution_count": 0,
      "outputs": []
    },
    {
      "cell_type": "markdown",
      "metadata": {
        "id": "u-U0jpdIWvTl",
        "colab_type": "text"
      },
      "source": [
        "## Training our model\n"
      ]
    },
    {
      "cell_type": "markdown",
      "metadata": {
        "id": "ak7RIBssXISt",
        "colab_type": "text"
      },
      "source": [
        "## 1)Decision Tree"
      ]
    },
    {
      "cell_type": "code",
      "metadata": {
        "id": "QyroPaoLFWVF",
        "colab_type": "code",
        "outputId": "758aa781-058f-4162-917e-59bb92522736",
        "colab": {
          "base_uri": "https://localhost:8080/",
          "height": 33
        }
      },
      "source": [
        "dt=DecisionTreeClassifier()\n",
        "dt.fit(X_train,y_train)\n",
        "dt.score(X_test,y_test)"
      ],
      "execution_count": 37,
      "outputs": [
        {
          "output_type": "execute_result",
          "data": {
            "text/plain": [
              "0.5043076584668402"
            ]
          },
          "metadata": {
            "tags": []
          },
          "execution_count": 37
        }
      ]
    },
    {
      "cell_type": "markdown",
      "metadata": {
        "id": "EBuAgLlHXPme",
        "colab_type": "text"
      },
      "source": [
        "## 2) Support Vector Machine (Linear)"
      ]
    },
    {
      "cell_type": "code",
      "metadata": {
        "id": "AHqdBCTqXcit",
        "colab_type": "code",
        "outputId": "6e4df7ec-57e3-460a-f876-34bfaa8b5f52",
        "colab": {
          "base_uri": "https://localhost:8080/",
          "height": 33
        }
      },
      "source": [
        "svml=SVC(kernel='linear')\n",
        "svml.fit(X_train,y_train)\n",
        "svml.score(X_test,y_test)"
      ],
      "execution_count": 38,
      "outputs": [
        {
          "output_type": "execute_result",
          "data": {
            "text/plain": [
              "0.670784910364043"
            ]
          },
          "metadata": {
            "tags": []
          },
          "execution_count": 38
        }
      ]
    },
    {
      "cell_type": "markdown",
      "metadata": {
        "id": "XKyaMjB7XhHt",
        "colab_type": "text"
      },
      "source": [
        "## Support Vector Machine (Linear) is giving the best accuracy"
      ]
    },
    {
      "cell_type": "markdown",
      "metadata": {
        "id": "UKHP2HfDXyFx",
        "colab_type": "text"
      },
      "source": [
        "## Classification Report for Support Vector Machine (Linear)"
      ]
    },
    {
      "cell_type": "code",
      "metadata": {
        "id": "mZ7Ynr68yohx",
        "colab_type": "code",
        "colab": {}
      },
      "source": [
        "y_predict=svml.predict(X_test)"
      ],
      "execution_count": 0,
      "outputs": []
    },
    {
      "cell_type": "code",
      "metadata": {
        "id": "uVymtfuVyoch",
        "colab_type": "code",
        "colab": {
          "base_uri": "https://localhost:8080/",
          "height": 602
        },
        "outputId": "9e322eb1-a3cd-43b8-8325-49f389c68592"
      },
      "source": [
        "svml_report=classification_report(y_test,y_predict)\n",
        "print(svml_report)"
      ],
      "execution_count": 46,
      "outputs": [
        {
          "output_type": "stream",
          "text": [
            "                            precision    recall  f1-score   support\n",
            "\n",
            "  Bordeaux-style Red Blend       0.64      0.75      0.69      1881\n",
            "Bordeaux-style White Blend       0.59      0.33      0.42       270\n",
            "            Cabernet Franc       0.68      0.25      0.36       350\n",
            "        Cabernet Sauvignon       0.54      0.75      0.63      2491\n",
            "           Champagne Blend       0.78      0.51      0.62       367\n",
            "                Chardonnay       0.66      0.89      0.76      3107\n",
            "                     Gamay       0.78      0.44      0.56       266\n",
            "            Gewürztraminer       0.77      0.53      0.63       282\n",
            "          Grüner Veltliner       0.75      0.65      0.70       344\n",
            "                    Malbec       0.58      0.47      0.51       719\n",
            "                    Merlot       0.74      0.30      0.42       820\n",
            "                  Nebbiolo       0.77      0.77      0.77       765\n",
            "              Pinot Grigio       0.77      0.42      0.54       279\n",
            "                Pinot Gris       0.70      0.42      0.53       345\n",
            "                Pinot Noir       0.69      0.82      0.75      3536\n",
            "            Portuguese Red       0.62      0.62      0.62       601\n",
            "          Portuguese White       0.77      0.42      0.54       283\n",
            "                 Red Blend       0.66      0.62      0.64      2358\n",
            "     Rhône-style Red Blend       0.76      0.57      0.65       384\n",
            "                  Riesling       0.76      0.81      0.78      1364\n",
            "                      Rosé       0.73      0.72      0.72       933\n",
            "                Sangiovese       0.64      0.48      0.55       693\n",
            "           Sauvignon Blanc       0.74      0.67      0.70      1329\n",
            "           Sparkling Blend       0.77      0.65      0.71       592\n",
            "                     Syrah       0.65      0.52      0.58      1052\n",
            "               Tempranillo       0.54      0.34      0.42       476\n",
            "               White Blend       0.86      0.59      0.70       662\n",
            "                 Zinfandel       0.74      0.58      0.65       728\n",
            "\n",
            "                  accuracy                           0.67     27277\n",
            "                 macro avg       0.70      0.57      0.61     27277\n",
            "              weighted avg       0.68      0.67      0.66     27277\n",
            "\n"
          ],
          "name": "stdout"
        }
      ]
    },
    {
      "cell_type": "markdown",
      "metadata": {
        "id": "vPVd0KkMYFrO",
        "colab_type": "text"
      },
      "source": [
        "## Confusion Matrix for Logistic Regression model"
      ]
    },
    {
      "cell_type": "code",
      "metadata": {
        "id": "FearnHjYyoUJ",
        "colab_type": "code",
        "colab": {
          "base_uri": "https://localhost:8080/",
          "height": 953
        },
        "outputId": "bddf8347-113a-47be-9987-b0650f54838d"
      },
      "source": [
        "svml_cm=confusion_matrix(y_test,y_predict)\n",
        "print(svml_cm)"
      ],
      "execution_count": 47,
      "outputs": [
        {
          "output_type": "stream",
          "text": [
            "[[1406    2   10  131    0   10    5    0    0   11   13    0    0    0\n",
            "    78   78    0  118    1    1   10    0    0    0    5    0    0    2]\n",
            " [  11   88    0    0    0  111    0    3    1    0    0    0    0    0\n",
            "     1    1    9    0    0    5   10    0   29    0    0    0    1    0]\n",
            " [  29    0   86  119    0    1    3    0    0    2    2    0    0    0\n",
            "    58    6    0   14    0    2    5    1    2    0   13    4    0    3]\n",
            " [  77    0   10 1857    0   11    0    0    0   55   29    1    0    0\n",
            "   214    1    0  105    0    0    4    3    3    0   68   23    0   30]\n",
            " [   1    1    0    0  189   87    0    0    0    0    0    0    0    1\n",
            "    15    1    0    1    0    4   34    0    3   30    0    0    0    0]\n",
            " [  20    2    0   13   21 2774    0    3    4    0    0    0    4   11\n",
            "    26    1    6    0    0   71    8    0   84   39    0    1   19    0]\n",
            " [  52    0    0    0    1    8  117    0    0    0    0    0    0    0\n",
            "    51   25    1    0    0    0   11    0    0    0    0    0    0    0]\n",
            " [   3    3    0    0    1   40    1  149    2    0    1    0    1    6\n",
            "     5    0    1    0    0   63    2    0    2    0    0    0    2    0]\n",
            " [   0    3    0    0    0   49    0    3  224    0    0    0    0    3\n",
            "     4    0    1    0    0   42    2    0   13    0    0    0    0    0]\n",
            " [  54    0    2  145    0    6    0    0    0  335    3    0    0    0\n",
            "    50   34    0   26    0    0    5    0    0    0   16   33    0   10]\n",
            " [  37    0    5  262    1   12    0    0    0   26  244    2    0    0\n",
            "   116    5    0   48    1    1    4    5    2    0   26    9    0   14]\n",
            " [   1    0    0   12    1    6    0    0    0    1    0  589    0    0\n",
            "    20    0    0   60    0    1    1   69    0    2    2    0    0    0]\n",
            " [   0    1    0    1    0   80    0    0    0    0    0    2  116    8\n",
            "     5    0    0    0    0   13    2    0   37    2    0    0   11    1]\n",
            " [   0    1    0    1    0  101    0    7   11    0    0    0    2  145\n",
            "    11    1    0    0    0   39    6    0   15    2    0    0    3    0]\n",
            " [ 153    3    2  159   11   42   15    2    2   16    5    1    1    4\n",
            "  2906   38    0   36    3    0   62    2    4   19   30    6    1   13]\n",
            " [ 162    1    0    5    0    5    4    0    0    1    0    0    0    0\n",
            "    41  370    2    2    0    0    6    0    0    0    1    0    0    1]\n",
            " [   3    7    0    0    3  118    0    4    2    0    0    0    0    0\n",
            "     1    5  118    0    0    4    3    0   10    2    0    0    3    0]\n",
            " [ 132    0    6  201    0    5    1    0    0   34   10   78    0    0\n",
            "   120    9    0 1460   42    1    6  106    2    0   57   44    3   41]\n",
            " [  13    0    1   27    0    1    0    0    0    1    3    1    0    0\n",
            "    44    5    0   38  217    1    3    0    0    0   22    1    0    6]\n",
            " [   2    0    0    6    1  150    0    9   29    0    0    0    2   10\n",
            "     9    0    0    0    0 1111    4    0   27    3    0    0    1    0]\n",
            " [  11    6    1    8    6   57    3    2    5    6    3    0    1    6\n",
            "    70    3    4   13    8   18  670    2   16    4    5    1    1    3]\n",
            " [   9    0    0   44    0    5    0    0    0    2    6   88    0    0\n",
            "    46    0    0  140    0    0   10  336    3    0    3    0    0    1]\n",
            " [   1   23    0    4    2  305    1    5   10    0    0    0    4    6\n",
            "     7    2    8    1    0   36   10    0  886    4    1    0   12    1]\n",
            " [   1    1    0    3    5   85    0    0    2    1    0    0    3    2\n",
            "    29    0    3    4    0   18   28    1   11  386    0    0    9    0]\n",
            " [   6    0    3  211    0    5    0    0    0   21    6    3    0    0\n",
            "   136    6    0   59   12    0    4    2    1    0  548   12    0   17]\n",
            " [   0    0    0  102    0    3    0    0    0   70    1    0    0    0\n",
            "    59    1    0   54    0    0    4    0    2    1   16  161    0    2]\n",
            " [   3    7    0    0    1  125    0    6    7    0    0    0   16    4\n",
            "     3    0    1    4    0   39    3    1   47    5    0    0  390    0]\n",
            " [   5    0    0  121    0    4    0    0    0    0    5    1    0    0\n",
            "   104    0    0   33    3    1    4    0    1    0   26    1    0  419]]\n"
          ],
          "name": "stdout"
        }
      ]
    },
    {
      "cell_type": "markdown",
      "metadata": {
        "id": "EW9YmFWWYi1N",
        "colab_type": "text"
      },
      "source": [
        "## Predicting the values of 'variety' column for test dataset using logistic regression"
      ]
    },
    {
      "cell_type": "code",
      "metadata": {
        "id": "fsup1di0y3QD",
        "colab_type": "code",
        "colab": {}
      },
      "source": [
        "X_out=X[len(df_train):]"
      ],
      "execution_count": 0,
      "outputs": []
    },
    {
      "cell_type": "code",
      "metadata": {
        "id": "d0om607ay3ex",
        "colab_type": "code",
        "colab": {}
      },
      "source": [
        "X_out=tf.transform(X_out)"
      ],
      "execution_count": 0,
      "outputs": []
    },
    {
      "cell_type": "code",
      "metadata": {
        "id": "QYtW0tWgyWtD",
        "colab_type": "code",
        "colab": {}
      },
      "source": [
        "df_test['variety']=svml.predict(X_out)"
      ],
      "execution_count": 0,
      "outputs": []
    },
    {
      "cell_type": "code",
      "metadata": {
        "id": "utQuzWSGy3M-",
        "colab_type": "code",
        "colab": {
          "base_uri": "https://localhost:8080/",
          "height": 467
        },
        "outputId": "27078290-bc70-4530-94a3-007ff27ecfb7"
      },
      "source": [
        "df_test.head()"
      ],
      "execution_count": 51,
      "outputs": [
        {
          "output_type": "execute_result",
          "data": {
            "text/html": [
              "<div>\n",
              "<style scoped>\n",
              "    .dataframe tbody tr th:only-of-type {\n",
              "        vertical-align: middle;\n",
              "    }\n",
              "\n",
              "    .dataframe tbody tr th {\n",
              "        vertical-align: top;\n",
              "    }\n",
              "\n",
              "    .dataframe thead th {\n",
              "        text-align: right;\n",
              "    }\n",
              "</style>\n",
              "<table border=\"1\" class=\"dataframe\">\n",
              "  <thead>\n",
              "    <tr style=\"text-align: right;\">\n",
              "      <th></th>\n",
              "      <th>user_name</th>\n",
              "      <th>country</th>\n",
              "      <th>review_title</th>\n",
              "      <th>review_description</th>\n",
              "      <th>designation</th>\n",
              "      <th>points</th>\n",
              "      <th>price</th>\n",
              "      <th>province</th>\n",
              "      <th>region_1</th>\n",
              "      <th>region_2</th>\n",
              "      <th>winery</th>\n",
              "      <th>variety</th>\n",
              "    </tr>\n",
              "  </thead>\n",
              "  <tbody>\n",
              "    <tr>\n",
              "      <th>0</th>\n",
              "      <td>@paulgwine</td>\n",
              "      <td>US</td>\n",
              "      <td>Boedecker Cellars 2011 Athena Pinot Noir (Will...</td>\n",
              "      <td>Nicely differentiated from the companion Stewa...</td>\n",
              "      <td>Athena</td>\n",
              "      <td>88</td>\n",
              "      <td>35.0</td>\n",
              "      <td>Oregon</td>\n",
              "      <td>Willamette Valley</td>\n",
              "      <td>Willamette Valley</td>\n",
              "      <td>Boedecker Cellars</td>\n",
              "      <td>Pinot Noir</td>\n",
              "    </tr>\n",
              "    <tr>\n",
              "      <th>1</th>\n",
              "      <td>@wineschach</td>\n",
              "      <td>Argentina</td>\n",
              "      <td>Mendoza Vineyards 2012 Gran Reserva by Richard...</td>\n",
              "      <td>Charred, smoky, herbal aromas of blackberry tr...</td>\n",
              "      <td>Gran Reserva by Richard Bonvin</td>\n",
              "      <td>90</td>\n",
              "      <td>60.0</td>\n",
              "      <td>Mendoza Province</td>\n",
              "      <td>Mendoza</td>\n",
              "      <td>NaN</td>\n",
              "      <td>Mendoza Vineyards</td>\n",
              "      <td>Malbec</td>\n",
              "    </tr>\n",
              "    <tr>\n",
              "      <th>2</th>\n",
              "      <td>@vboone</td>\n",
              "      <td>US</td>\n",
              "      <td>Prime 2013 Chardonnay (Coombsville)</td>\n",
              "      <td>Slightly sour and funky in earth, this is a re...</td>\n",
              "      <td>NaN</td>\n",
              "      <td>87</td>\n",
              "      <td>38.0</td>\n",
              "      <td>California</td>\n",
              "      <td>Coombsville</td>\n",
              "      <td>Napa</td>\n",
              "      <td>Prime</td>\n",
              "      <td>Chardonnay</td>\n",
              "    </tr>\n",
              "    <tr>\n",
              "      <th>3</th>\n",
              "      <td>@wineschach</td>\n",
              "      <td>Argentina</td>\n",
              "      <td>Bodega Cuarto Dominio 2012 Chento Vineyard Sel...</td>\n",
              "      <td>This concentrated, midnight-black Malbec deliv...</td>\n",
              "      <td>Chento Vineyard Selection</td>\n",
              "      <td>91</td>\n",
              "      <td>20.0</td>\n",
              "      <td>Mendoza Province</td>\n",
              "      <td>Mendoza</td>\n",
              "      <td>NaN</td>\n",
              "      <td>Bodega Cuarto Dominio</td>\n",
              "      <td>Red Blend</td>\n",
              "    </tr>\n",
              "    <tr>\n",
              "      <th>4</th>\n",
              "      <td>@kerinokeefe</td>\n",
              "      <td>Italy</td>\n",
              "      <td>SassodiSole 2012  Brunello di Montalcino</td>\n",
              "      <td>Earthy aromas suggesting grilled porcini, leat...</td>\n",
              "      <td>NaN</td>\n",
              "      <td>90</td>\n",
              "      <td>49.0</td>\n",
              "      <td>Tuscany</td>\n",
              "      <td>Brunello di Montalcino</td>\n",
              "      <td>NaN</td>\n",
              "      <td>SassodiSole</td>\n",
              "      <td>Sangiovese</td>\n",
              "    </tr>\n",
              "  </tbody>\n",
              "</table>\n",
              "</div>"
            ],
            "text/plain": [
              "      user_name    country  ...                 winery     variety\n",
              "0   @paulgwine          US  ...      Boedecker Cellars  Pinot Noir\n",
              "1   @wineschach  Argentina  ...      Mendoza Vineyards      Malbec\n",
              "2       @vboone         US  ...                  Prime  Chardonnay\n",
              "3   @wineschach  Argentina  ...  Bodega Cuarto Dominio   Red Blend\n",
              "4  @kerinokeefe      Italy  ...            SassodiSole  Sangiovese\n",
              "\n",
              "[5 rows x 12 columns]"
            ]
          },
          "metadata": {
            "tags": []
          },
          "execution_count": 51
        }
      ]
    }
  ]
}